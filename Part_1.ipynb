{
 "metadata": {
  "language_info": {
   "codemirror_mode": {
    "name": "ipython",
    "version": 3
   },
   "file_extension": ".py",
   "mimetype": "text/x-python",
   "name": "python",
   "nbconvert_exporter": "python",
   "pygments_lexer": "ipython3",
   "version": "3.9.4"
  },
  "orig_nbformat": 2,
  "kernelspec": {
   "name": "python392jvsc74a57bd0767d51c1340bd893661ea55ea3124f6de3c7a262a8b4abca0554b478b1e2ff90",
   "display_name": "Python 3.9.4 64-bit"
  },
  "metadata": {
   "interpreter": {
    "hash": "767d51c1340bd893661ea55ea3124f6de3c7a262a8b4abca0554b478b1e2ff90"
   }
  }
 },
 "nbformat": 4,
 "nbformat_minor": 2,
 "cells": [
  {
   "source": [
    "# Part 1\n",
    "## 1.1 Data preparation\n",
    "\n",
    " 1. Read data in - [1]\n",
    " 2. Prepare Data - inside iterate function [8]\n",
    " \n",
    "## 1.2 Regression\n",
    " 3. Create and train the Random Forrest Regressor - [5]\n",
    " 4. Create and train the MLP Regressor - [6]\n",
    " 5. Create and train the SVM Regressor - [7]\n",
    " 6.  Model can make predictions - [9]\n",
    "## 1.3 Assessment\n",
    " 1. Mean Absolute Error Calculation - [4]\n",
    " 2. Cross validation [10]\n",
    " 3. Box Plots [10]\n",
    "\n"
   ],
   "cell_type": "markdown",
   "metadata": {}
  },
  {
   "source": [
    "## Packages needed:\n",
    "- pandas\n",
    "- sklearn\n",
    "- numpy\n",
    "- matplotlib\n",
    "- tqdm\n",
    "\n",
    "#### note: tqdm is only for the tracking of loop progress, if you don't want to install it, it can be removed and the code will function correctly without it. Just keep the range() inside"
   ],
   "cell_type": "code",
   "metadata": {},
   "execution_count": null,
   "outputs": []
  },
  {
   "cell_type": "code",
   "execution_count": 1,
   "metadata": {},
   "outputs": [
    {
     "output_type": "execute_result",
     "data": {
      "text/plain": [
       "   month  Temperature   RH   Ws  Rain   FFMC  DMC    DC  ISI  BUI  FWI\n",
       "0      6           29   57   18    0.0  65.7  3.4   7.6  1.3  3.4  0.5\n",
       "1      6           29   61   13    1.3  64.4  4.1   7.6  1.0  3.9  0.4\n",
       "2      6           26   82   22   13.1  47.1  2.5   7.1  0.3  2.7  0.1\n",
       "3      6           25   89   13    2.5  28.6  1.3   6.9  0.0  1.7  0.0\n",
       "4      6           27   77   16    0.0  64.8  3.0  14.2  1.2  3.9  0.5"
      ],
      "text/html": "<div>\n<style scoped>\n    .dataframe tbody tr th:only-of-type {\n        vertical-align: middle;\n    }\n\n    .dataframe tbody tr th {\n        vertical-align: top;\n    }\n\n    .dataframe thead th {\n        text-align: right;\n    }\n</style>\n<table border=\"1\" class=\"dataframe\">\n  <thead>\n    <tr style=\"text-align: right;\">\n      <th></th>\n      <th>month</th>\n      <th>Temperature</th>\n      <th>RH</th>\n      <th>Ws</th>\n      <th>Rain</th>\n      <th>FFMC</th>\n      <th>DMC</th>\n      <th>DC</th>\n      <th>ISI</th>\n      <th>BUI</th>\n      <th>FWI</th>\n    </tr>\n  </thead>\n  <tbody>\n    <tr>\n      <th>0</th>\n      <td>6</td>\n      <td>29</td>\n      <td>57</td>\n      <td>18</td>\n      <td>0.0</td>\n      <td>65.7</td>\n      <td>3.4</td>\n      <td>7.6</td>\n      <td>1.3</td>\n      <td>3.4</td>\n      <td>0.5</td>\n    </tr>\n    <tr>\n      <th>1</th>\n      <td>6</td>\n      <td>29</td>\n      <td>61</td>\n      <td>13</td>\n      <td>1.3</td>\n      <td>64.4</td>\n      <td>4.1</td>\n      <td>7.6</td>\n      <td>1.0</td>\n      <td>3.9</td>\n      <td>0.4</td>\n    </tr>\n    <tr>\n      <th>2</th>\n      <td>6</td>\n      <td>26</td>\n      <td>82</td>\n      <td>22</td>\n      <td>13.1</td>\n      <td>47.1</td>\n      <td>2.5</td>\n      <td>7.1</td>\n      <td>0.3</td>\n      <td>2.7</td>\n      <td>0.1</td>\n    </tr>\n    <tr>\n      <th>3</th>\n      <td>6</td>\n      <td>25</td>\n      <td>89</td>\n      <td>13</td>\n      <td>2.5</td>\n      <td>28.6</td>\n      <td>1.3</td>\n      <td>6.9</td>\n      <td>0.0</td>\n      <td>1.7</td>\n      <td>0.0</td>\n    </tr>\n    <tr>\n      <th>4</th>\n      <td>6</td>\n      <td>27</td>\n      <td>77</td>\n      <td>16</td>\n      <td>0.0</td>\n      <td>64.8</td>\n      <td>3.0</td>\n      <td>14.2</td>\n      <td>1.2</td>\n      <td>3.9</td>\n      <td>0.5</td>\n    </tr>\n  </tbody>\n</table>\n</div>"
     },
     "metadata": {},
     "execution_count": 1
    }
   ],
   "source": [
    "import pandas as pd\n",
    "from sklearn import preprocessing\n",
    "import numpy as np\n",
    "import matplotlib.pyplot as plt\n",
    "import math\n",
    "plt.style.use(\"fivethirtyeight\")\n",
    "BASE_DF = pd.read_csv(\"./AlgerianFF_Region1.csv\")\n",
    "BASE_DF.merge( pd.read_csv(\"./AlgerianFF_Region2.csv\") )\n",
    "options = ['Random Forrest', 'MLP', 'SVM']\n",
    "\n",
    "# Pre-calculate the split point\n",
    "SPLIT_POINT = math.floor( len(BASE_DF) * 0.7 ) # 70% train / 30% test\n",
    "\n",
    "\n",
    "# Drop day and year as they will only confuse the AI\n",
    "# Month is left in as the month could be a predicter of a forest fire\n",
    "# From testing, dropping this does not decrease the best error, but does increase the worst.\n",
    "BASE_DF = BASE_DF.drop( [\"day\", \"year\"] , axis=1 ) \n",
    "BASE_DF.head()"
   ]
  },
  {
   "cell_type": "code",
   "execution_count": 2,
   "metadata": {},
   "outputs": [
    {
     "output_type": "stream",
     "name": "stdout",
     "text": [
      "   month  Temperature   RH   Ws  Rain   FFMC   DMC    DC  ISI   BUI   FWI\n0      6           31   64   18    0.0  86.8  17.8  71.8  6.7  21.6  10.6\n1      6           30   78   20    0.5  59.0   4.6   7.8  1.0   4.4   0.4\n2      6           32   66   17    0.0  85.9  11.2  55.8  5.6  14.9   7.5\n3      6           30   73   15    0.0  86.6  12.1  38.3  5.6  13.5   7.1\n4      9           29   74   19    0.1  75.8   3.6  32.2  2.1   5.6   0.9\n   month  Temperature   RH   Ws  Rain   FFMC   DMC     DC   ISI   BUI   FWI\n0      9           30   77   15    1.0  56.1   2.1    8.4   0.7   2.6   0.2\n1      8           36   54   18    0.0  89.4  20.0  110.9   9.7  27.5  16.1\n2      7           36   53   19    0.0  89.2  17.1   98.6  10.0  23.9  15.3\n3      8           32   69   16    0.0  86.5  15.5   48.6   5.5  17.2   8.0\n4      6           30   78   20    0.5  59.0   4.6    7.8   1.0   4.4   0.4\n"
     ]
    }
   ],
   "source": [
    "# Create a random sample of the base dataframe\n",
    "def get_random_sample():\n",
    "    return BASE_DF.sample(frac=1).reset_index(drop=True)\n",
    "\n",
    "# Sanity check it gets a random stample\n",
    "print( get_random_sample().head() )\n",
    "print( get_random_sample().head() )\n"
   ]
  },
  {
   "source": [],
   "cell_type": "markdown",
   "metadata": {}
  },
  {
   "cell_type": "code",
   "execution_count": 3,
   "metadata": {},
   "outputs": [],
   "source": [
    "# Helper function to see the output of predictions\n",
    "def print_predictions(regressor, X_test, y_test, limit=None):\n",
    "    for i in range( len(X_test) ):\n",
    "        print(f\"Prediction: {regressor.predict([X_test[i]])[0]}\\t\\tActual: {y_test[i]}\")\n",
    "        if limit is not None and i == limit:\n",
    "            break\n",
    "\n",
    "# Calculate the mean absolute error\n",
    "def calcMeanABSError(regressor, xs, ys):\n",
    "    total = 0\n",
    "    for i in range( len(xs) ):\n",
    "        prediction = regressor.predict([xs[i]])[0]\n",
    "        actual = ys[i]\n",
    "        total += abs(prediction - actual)\n",
    "    return total / len(xs)\n",
    "    "
   ]
  },
  {
   "cell_type": "code",
   "execution_count": 4,
   "metadata": {},
   "outputs": [],
   "source": [
    "def train_test_split(data, split_point):\n",
    "    train, test = data[:split_point], data[split_point + 1: ]\n",
    "    return [train, test]"
   ]
  },
  {
   "source": [
    "from sklearn.ensemble import RandomForestRegressor\n",
    "def train_RFR(X_train, y_train):\n",
    "    return RandomForestRegressor().fit(X_train, y_train)"
   ],
   "cell_type": "code",
   "metadata": {},
   "execution_count": 5,
   "outputs": []
  },
  {
   "cell_type": "code",
   "execution_count": 6,
   "metadata": {},
   "outputs": [],
   "source": [
    "from sklearn.neural_network import MLPRegressor\n",
    "def train_MLP(X_train, y_train):\n",
    "    return MLPRegressor(max_iter=1500).fit(X_train, y_train)"
   ]
  },
  {
   "cell_type": "code",
   "execution_count": 7,
   "metadata": {},
   "outputs": [],
   "source": [
    "from sklearn.svm import SVR\n",
    "def train_SVR(X_train, y_train):\n",
    "    return SVR().fit(X_train, y_train)"
   ]
  },
  {
   "cell_type": "code",
   "execution_count": 8,
   "metadata": {},
   "outputs": [],
   "source": [
    "def iterate(df, results, index, print_outputs=False):\n",
    "\n",
    "    # Targets is the FWI column\n",
    "    y = np.array(df['FWI'])\n",
    "    # Drop target (FWI) from training data\n",
    "\n",
    "    # The dataframe has been randomly shuffled before being passed to this function\n",
    "    #  As such, the data can only be prepared here as the targets (y) needs to be in the same order\n",
    "    df = df.drop(['FWI'], axis=1) \n",
    "    inputs = np.array(df, float)\n",
    "\n",
    "    X = preprocessing.scale(inputs) # Normalise inputs\n",
    "\n",
    "    # Cross validation\n",
    "    # As the df that is passed to this function is shuffled, all that is needed here is to create the train test split\n",
    "    \n",
    "\n",
    "    X_train, X_test = train_test_split(X, SPLIT_POINT)\n",
    "    y_train, y_test = train_test_split(y, SPLIT_POINT)\n",
    "\n",
    "    # Train all the regressors\n",
    "    regressors = [\n",
    "        train_RFR(X_train, y_train),\n",
    "        train_MLP(X_train, y_train),\n",
    "        train_SVR(X_train, y_train)\n",
    "    ]\n",
    "\n",
    "    if print_outputs:\n",
    "        for i in range( len(regressors) ):\n",
    "            print(options[i])\n",
    "            print_predictions(regressors[i], X_test, y_test, limit=5)\n",
    "            print(\"\\n\")\n",
    "        return\n",
    "\n",
    "    mae = []\n",
    "    # For each regressor, calculate it's mean absolute error\n",
    "    for regr in regressors:\n",
    "        mae.append(\n",
    "            calcMeanABSError(regr, X_test, y_test)\n",
    "        )\n",
    "        \n",
    "    # Instead of returning the mae, they are added to a results dictionary\n",
    "    # This is a thread safe dictionary provided by multiprocessing\n",
    "    results[index] = mae"
   ]
  },
  {
   "cell_type": "code",
   "execution_count": 9,
   "metadata": {},
   "outputs": [
    {
     "output_type": "stream",
     "name": "stdout",
     "text": [
      "Random Forrest\nPrediction: 14.463000000000015\t\tActual: 15.7\nPrediction: 2.603999999999997\t\tActual: 2.8\nPrediction: 12.020000000000005\t\tActual: 12.1\nPrediction: 16.374000000000017\t\tActual: 20.3\nPrediction: 12.374000000000008\t\tActual: 11.3\nPrediction: 16.835000000000008\t\tActual: 20.4\n\n\nMLP\nPrediction: 15.470425358936307\t\tActual: 15.7\nPrediction: 3.2774085649049285\t\tActual: 2.8\nPrediction: 12.361897942390142\t\tActual: 12.1\nPrediction: 19.916141769739852\t\tActual: 20.3\nPrediction: 11.096009182167641\t\tActual: 11.3\nPrediction: 20.368181237628928\t\tActual: 20.4\n\n\nSVM\nPrediction: 12.015180650205652\t\tActual: 15.7\nPrediction: 2.8421366595195456\t\tActual: 2.8\nPrediction: 10.82274798670879\t\tActual: 12.1\nPrediction: 9.747511337939972\t\tActual: 20.3\nPrediction: 10.237964074855533\t\tActual: 11.3\nPrediction: 11.986689884586767\t\tActual: 20.4\n\n\n"
     ]
    }
   ],
   "source": [
    "# Prove models can make predictions\n",
    "iterate( get_random_sample(), 0, {}, print_outputs=True )"
   ]
  },
  {
   "cell_type": "code",
   "execution_count": 10,
   "metadata": {
    "tags": []
   },
   "outputs": [
    {
     "output_type": "stream",
     "name": "stderr",
     "text": [
      "100%|██████████| 4/4 [00:04<00:00,  1.04s/it]\n"
     ]
    },
    {
     "output_type": "display_data",
     "data": {
      "text/plain": "<Figure size 432x288 with 1 Axes>",
      "image/svg+xml": "<?xml version=\"1.0\" encoding=\"utf-8\" standalone=\"no\"?>\n<!DOCTYPE svg PUBLIC \"-//W3C//DTD SVG 1.1//EN\"\n  \"http://www.w3.org/Graphics/SVG/1.1/DTD/svg11.dtd\">\n<svg height=\"281.671125pt\" version=\"1.1\" viewBox=\"0 0 436.263625 281.671125\" width=\"436.263625pt\" xmlns=\"http://www.w3.org/2000/svg\" xmlns:xlink=\"http://www.w3.org/1999/xlink\">\n <metadata>\n  <rdf:RDF xmlns:cc=\"http://creativecommons.org/ns#\" xmlns:dc=\"http://purl.org/dc/elements/1.1/\" xmlns:rdf=\"http://www.w3.org/1999/02/22-rdf-syntax-ns#\">\n   <cc:Work>\n    <dc:type rdf:resource=\"http://purl.org/dc/dcmitype/StillImage\"/>\n    <dc:date>2021-05-18T19:39:34.147707</dc:date>\n    <dc:format>image/svg+xml</dc:format>\n    <dc:creator>\n     <cc:Agent>\n      <dc:title>Matplotlib v3.4.1, https://matplotlib.org/</dc:title>\n     </cc:Agent>\n    </dc:creator>\n   </cc:Work>\n  </rdf:RDF>\n </metadata>\n <defs>\n  <style type=\"text/css\">*{stroke-linecap:butt;stroke-linejoin:round;}</style>\n </defs>\n <g id=\"figure_1\">\n  <g id=\"patch_1\">\n   <path d=\"M 0 281.671125 \nL 436.263625 281.671125 \nL 436.263625 0 \nL 0 0 \nz\n\" style=\"fill:#f0f0f0;\"/>\n  </g>\n  <g id=\"axes_1\">\n   <g id=\"patch_2\">\n    <path d=\"M 53.223625 257.42175 \nL 429.063625 257.42175 \nL 429.063625 24.14175 \nL 53.223625 24.14175 \nz\n\" style=\"fill:#f0f0f0;\"/>\n   </g>\n   <g id=\"matplotlib.axis_1\">\n    <g id=\"xtick_1\">\n     <g id=\"line2d_1\">\n      <path clip-path=\"url(#pe031778417)\" d=\"M 115.863625 257.42175 \nL 115.863625 24.14175 \n\" style=\"fill:none;stroke:#cbcbcb;\"/>\n     </g>\n     <g id=\"line2d_2\"/>\n     <g id=\"text_1\">\n      <!-- Random Forrest -->\n      <g transform=\"translate(60.432375 271.559563)scale(0.14 -0.14)\">\n       <defs>\n        <path d=\"M 2841 2188 \nQ 3044 2119 3236 1894 \nQ 3428 1669 3622 1275 \nL 4263 0 \nL 3584 0 \nL 2988 1197 \nQ 2756 1666 2539 1819 \nQ 2322 1972 1947 1972 \nL 1259 1972 \nL 1259 0 \nL 628 0 \nL 628 4666 \nL 2053 4666 \nQ 2853 4666 3247 4331 \nQ 3641 3997 3641 3322 \nQ 3641 2881 3436 2590 \nQ 3231 2300 2841 2188 \nz\nM 1259 4147 \nL 1259 2491 \nL 2053 2491 \nQ 2509 2491 2742 2702 \nQ 2975 2913 2975 3322 \nQ 2975 3731 2742 3939 \nQ 2509 4147 2053 4147 \nL 1259 4147 \nz\n\" id=\"DejaVuSans-52\" transform=\"scale(0.015625)\"/>\n        <path d=\"M 2194 1759 \nQ 1497 1759 1228 1600 \nQ 959 1441 959 1056 \nQ 959 750 1161 570 \nQ 1363 391 1709 391 \nQ 2188 391 2477 730 \nQ 2766 1069 2766 1631 \nL 2766 1759 \nL 2194 1759 \nz\nM 3341 1997 \nL 3341 0 \nL 2766 0 \nL 2766 531 \nQ 2569 213 2275 61 \nQ 1981 -91 1556 -91 \nQ 1019 -91 701 211 \nQ 384 513 384 1019 \nQ 384 1609 779 1909 \nQ 1175 2209 1959 2209 \nL 2766 2209 \nL 2766 2266 \nQ 2766 2663 2505 2880 \nQ 2244 3097 1772 3097 \nQ 1472 3097 1187 3025 \nQ 903 2953 641 2809 \nL 641 3341 \nQ 956 3463 1253 3523 \nQ 1550 3584 1831 3584 \nQ 2591 3584 2966 3190 \nQ 3341 2797 3341 1997 \nz\n\" id=\"DejaVuSans-61\" transform=\"scale(0.015625)\"/>\n        <path d=\"M 3513 2113 \nL 3513 0 \nL 2938 0 \nL 2938 2094 \nQ 2938 2591 2744 2837 \nQ 2550 3084 2163 3084 \nQ 1697 3084 1428 2787 \nQ 1159 2491 1159 1978 \nL 1159 0 \nL 581 0 \nL 581 3500 \nL 1159 3500 \nL 1159 2956 \nQ 1366 3272 1645 3428 \nQ 1925 3584 2291 3584 \nQ 2894 3584 3203 3211 \nQ 3513 2838 3513 2113 \nz\n\" id=\"DejaVuSans-6e\" transform=\"scale(0.015625)\"/>\n        <path d=\"M 2906 2969 \nL 2906 4863 \nL 3481 4863 \nL 3481 0 \nL 2906 0 \nL 2906 525 \nQ 2725 213 2448 61 \nQ 2172 -91 1784 -91 \nQ 1150 -91 751 415 \nQ 353 922 353 1747 \nQ 353 2572 751 3078 \nQ 1150 3584 1784 3584 \nQ 2172 3584 2448 3432 \nQ 2725 3281 2906 2969 \nz\nM 947 1747 \nQ 947 1113 1208 752 \nQ 1469 391 1925 391 \nQ 2381 391 2643 752 \nQ 2906 1113 2906 1747 \nQ 2906 2381 2643 2742 \nQ 2381 3103 1925 3103 \nQ 1469 3103 1208 2742 \nQ 947 2381 947 1747 \nz\n\" id=\"DejaVuSans-64\" transform=\"scale(0.015625)\"/>\n        <path d=\"M 1959 3097 \nQ 1497 3097 1228 2736 \nQ 959 2375 959 1747 \nQ 959 1119 1226 758 \nQ 1494 397 1959 397 \nQ 2419 397 2687 759 \nQ 2956 1122 2956 1747 \nQ 2956 2369 2687 2733 \nQ 2419 3097 1959 3097 \nz\nM 1959 3584 \nQ 2709 3584 3137 3096 \nQ 3566 2609 3566 1747 \nQ 3566 888 3137 398 \nQ 2709 -91 1959 -91 \nQ 1206 -91 779 398 \nQ 353 888 353 1747 \nQ 353 2609 779 3096 \nQ 1206 3584 1959 3584 \nz\n\" id=\"DejaVuSans-6f\" transform=\"scale(0.015625)\"/>\n        <path d=\"M 3328 2828 \nQ 3544 3216 3844 3400 \nQ 4144 3584 4550 3584 \nQ 5097 3584 5394 3201 \nQ 5691 2819 5691 2113 \nL 5691 0 \nL 5113 0 \nL 5113 2094 \nQ 5113 2597 4934 2840 \nQ 4756 3084 4391 3084 \nQ 3944 3084 3684 2787 \nQ 3425 2491 3425 1978 \nL 3425 0 \nL 2847 0 \nL 2847 2094 \nQ 2847 2600 2669 2842 \nQ 2491 3084 2119 3084 \nQ 1678 3084 1418 2786 \nQ 1159 2488 1159 1978 \nL 1159 0 \nL 581 0 \nL 581 3500 \nL 1159 3500 \nL 1159 2956 \nQ 1356 3278 1631 3431 \nQ 1906 3584 2284 3584 \nQ 2666 3584 2933 3390 \nQ 3200 3197 3328 2828 \nz\n\" id=\"DejaVuSans-6d\" transform=\"scale(0.015625)\"/>\n        <path id=\"DejaVuSans-20\" transform=\"scale(0.015625)\"/>\n        <path d=\"M 628 4666 \nL 3309 4666 \nL 3309 4134 \nL 1259 4134 \nL 1259 2759 \nL 3109 2759 \nL 3109 2228 \nL 1259 2228 \nL 1259 0 \nL 628 0 \nL 628 4666 \nz\n\" id=\"DejaVuSans-46\" transform=\"scale(0.015625)\"/>\n        <path d=\"M 2631 2963 \nQ 2534 3019 2420 3045 \nQ 2306 3072 2169 3072 \nQ 1681 3072 1420 2755 \nQ 1159 2438 1159 1844 \nL 1159 0 \nL 581 0 \nL 581 3500 \nL 1159 3500 \nL 1159 2956 \nQ 1341 3275 1631 3429 \nQ 1922 3584 2338 3584 \nQ 2397 3584 2469 3576 \nQ 2541 3569 2628 3553 \nL 2631 2963 \nz\n\" id=\"DejaVuSans-72\" transform=\"scale(0.015625)\"/>\n        <path d=\"M 3597 1894 \nL 3597 1613 \nL 953 1613 \nQ 991 1019 1311 708 \nQ 1631 397 2203 397 \nQ 2534 397 2845 478 \nQ 3156 559 3463 722 \nL 3463 178 \nQ 3153 47 2828 -22 \nQ 2503 -91 2169 -91 \nQ 1331 -91 842 396 \nQ 353 884 353 1716 \nQ 353 2575 817 3079 \nQ 1281 3584 2069 3584 \nQ 2775 3584 3186 3129 \nQ 3597 2675 3597 1894 \nz\nM 3022 2063 \nQ 3016 2534 2758 2815 \nQ 2500 3097 2075 3097 \nQ 1594 3097 1305 2825 \nQ 1016 2553 972 2059 \nL 3022 2063 \nz\n\" id=\"DejaVuSans-65\" transform=\"scale(0.015625)\"/>\n        <path d=\"M 2834 3397 \nL 2834 2853 \nQ 2591 2978 2328 3040 \nQ 2066 3103 1784 3103 \nQ 1356 3103 1142 2972 \nQ 928 2841 928 2578 \nQ 928 2378 1081 2264 \nQ 1234 2150 1697 2047 \nL 1894 2003 \nQ 2506 1872 2764 1633 \nQ 3022 1394 3022 966 \nQ 3022 478 2636 193 \nQ 2250 -91 1575 -91 \nQ 1294 -91 989 -36 \nQ 684 19 347 128 \nL 347 722 \nQ 666 556 975 473 \nQ 1284 391 1588 391 \nQ 1994 391 2212 530 \nQ 2431 669 2431 922 \nQ 2431 1156 2273 1281 \nQ 2116 1406 1581 1522 \nL 1381 1569 \nQ 847 1681 609 1914 \nQ 372 2147 372 2553 \nQ 372 3047 722 3315 \nQ 1072 3584 1716 3584 \nQ 2034 3584 2315 3537 \nQ 2597 3491 2834 3397 \nz\n\" id=\"DejaVuSans-73\" transform=\"scale(0.015625)\"/>\n        <path d=\"M 1172 4494 \nL 1172 3500 \nL 2356 3500 \nL 2356 3053 \nL 1172 3053 \nL 1172 1153 \nQ 1172 725 1289 603 \nQ 1406 481 1766 481 \nL 2356 481 \nL 2356 0 \nL 1766 0 \nQ 1100 0 847 248 \nQ 594 497 594 1153 \nL 594 3053 \nL 172 3053 \nL 172 3500 \nL 594 3500 \nL 594 4494 \nL 1172 4494 \nz\n\" id=\"DejaVuSans-74\" transform=\"scale(0.015625)\"/>\n       </defs>\n       <use xlink:href=\"#DejaVuSans-52\"/>\n       <use x=\"67.232422\" xlink:href=\"#DejaVuSans-61\"/>\n       <use x=\"128.511719\" xlink:href=\"#DejaVuSans-6e\"/>\n       <use x=\"191.890625\" xlink:href=\"#DejaVuSans-64\"/>\n       <use x=\"255.367188\" xlink:href=\"#DejaVuSans-6f\"/>\n       <use x=\"316.548828\" xlink:href=\"#DejaVuSans-6d\"/>\n       <use x=\"413.960938\" xlink:href=\"#DejaVuSans-20\"/>\n       <use x=\"445.748047\" xlink:href=\"#DejaVuSans-46\"/>\n       <use x=\"499.642578\" xlink:href=\"#DejaVuSans-6f\"/>\n       <use x=\"560.824219\" xlink:href=\"#DejaVuSans-72\"/>\n       <use x=\"600.1875\" xlink:href=\"#DejaVuSans-72\"/>\n       <use x=\"639.050781\" xlink:href=\"#DejaVuSans-65\"/>\n       <use x=\"700.574219\" xlink:href=\"#DejaVuSans-73\"/>\n       <use x=\"752.673828\" xlink:href=\"#DejaVuSans-74\"/>\n      </g>\n     </g>\n    </g>\n    <g id=\"xtick_2\">\n     <g id=\"line2d_3\">\n      <path clip-path=\"url(#pe031778417)\" d=\"M 241.143625 257.42175 \nL 241.143625 24.14175 \n\" style=\"fill:none;stroke:#cbcbcb;\"/>\n     </g>\n     <g id=\"line2d_4\"/>\n     <g id=\"text_2\">\n      <!-- MLP -->\n      <g transform=\"translate(226.982844 271.559563)scale(0.14 -0.14)\">\n       <defs>\n        <path d=\"M 628 4666 \nL 1569 4666 \nL 2759 1491 \nL 3956 4666 \nL 4897 4666 \nL 4897 0 \nL 4281 0 \nL 4281 4097 \nL 3078 897 \nL 2444 897 \nL 1241 4097 \nL 1241 0 \nL 628 0 \nL 628 4666 \nz\n\" id=\"DejaVuSans-4d\" transform=\"scale(0.015625)\"/>\n        <path d=\"M 628 4666 \nL 1259 4666 \nL 1259 531 \nL 3531 531 \nL 3531 0 \nL 628 0 \nL 628 4666 \nz\n\" id=\"DejaVuSans-4c\" transform=\"scale(0.015625)\"/>\n        <path d=\"M 1259 4147 \nL 1259 2394 \nL 2053 2394 \nQ 2494 2394 2734 2622 \nQ 2975 2850 2975 3272 \nQ 2975 3691 2734 3919 \nQ 2494 4147 2053 4147 \nL 1259 4147 \nz\nM 628 4666 \nL 2053 4666 \nQ 2838 4666 3239 4311 \nQ 3641 3956 3641 3272 \nQ 3641 2581 3239 2228 \nQ 2838 1875 2053 1875 \nL 1259 1875 \nL 1259 0 \nL 628 0 \nL 628 4666 \nz\n\" id=\"DejaVuSans-50\" transform=\"scale(0.015625)\"/>\n       </defs>\n       <use xlink:href=\"#DejaVuSans-4d\"/>\n       <use x=\"86.279297\" xlink:href=\"#DejaVuSans-4c\"/>\n       <use x=\"141.992188\" xlink:href=\"#DejaVuSans-50\"/>\n      </g>\n     </g>\n    </g>\n    <g id=\"xtick_3\">\n     <g id=\"line2d_5\">\n      <path clip-path=\"url(#pe031778417)\" d=\"M 366.423625 257.42175 \nL 366.423625 24.14175 \n\" style=\"fill:none;stroke:#cbcbcb;\"/>\n     </g>\n     <g id=\"line2d_6\"/>\n     <g id=\"text_3\">\n      <!-- SVM -->\n      <g transform=\"translate(351.151594 271.559563)scale(0.14 -0.14)\">\n       <defs>\n        <path d=\"M 3425 4513 \nL 3425 3897 \nQ 3066 4069 2747 4153 \nQ 2428 4238 2131 4238 \nQ 1616 4238 1336 4038 \nQ 1056 3838 1056 3469 \nQ 1056 3159 1242 3001 \nQ 1428 2844 1947 2747 \nL 2328 2669 \nQ 3034 2534 3370 2195 \nQ 3706 1856 3706 1288 \nQ 3706 609 3251 259 \nQ 2797 -91 1919 -91 \nQ 1588 -91 1214 -16 \nQ 841 59 441 206 \nL 441 856 \nQ 825 641 1194 531 \nQ 1563 422 1919 422 \nQ 2459 422 2753 634 \nQ 3047 847 3047 1241 \nQ 3047 1584 2836 1778 \nQ 2625 1972 2144 2069 \nL 1759 2144 \nQ 1053 2284 737 2584 \nQ 422 2884 422 3419 \nQ 422 4038 858 4394 \nQ 1294 4750 2059 4750 \nQ 2388 4750 2728 4690 \nQ 3069 4631 3425 4513 \nz\n\" id=\"DejaVuSans-53\" transform=\"scale(0.015625)\"/>\n        <path d=\"M 1831 0 \nL 50 4666 \nL 709 4666 \nL 2188 738 \nL 3669 4666 \nL 4325 4666 \nL 2547 0 \nL 1831 0 \nz\n\" id=\"DejaVuSans-56\" transform=\"scale(0.015625)\"/>\n       </defs>\n       <use xlink:href=\"#DejaVuSans-53\"/>\n       <use x=\"63.476562\" xlink:href=\"#DejaVuSans-56\"/>\n       <use x=\"131.884766\" xlink:href=\"#DejaVuSans-4d\"/>\n      </g>\n     </g>\n    </g>\n   </g>\n   <g id=\"matplotlib.axis_2\">\n    <g id=\"ytick_1\">\n     <g id=\"line2d_7\">\n      <path clip-path=\"url(#pe031778417)\" d=\"M 53.223625 226.452076 \nL 429.063625 226.452076 \n\" style=\"fill:none;stroke:#cbcbcb;\"/>\n     </g>\n     <g id=\"line2d_8\"/>\n     <g id=\"text_4\">\n      <!-- 0.5 -->\n      <g transform=\"translate(27.45925 231.770982)scale(0.14 -0.14)\">\n       <defs>\n        <path d=\"M 2034 4250 \nQ 1547 4250 1301 3770 \nQ 1056 3291 1056 2328 \nQ 1056 1369 1301 889 \nQ 1547 409 2034 409 \nQ 2525 409 2770 889 \nQ 3016 1369 3016 2328 \nQ 3016 3291 2770 3770 \nQ 2525 4250 2034 4250 \nz\nM 2034 4750 \nQ 2819 4750 3233 4129 \nQ 3647 3509 3647 2328 \nQ 3647 1150 3233 529 \nQ 2819 -91 2034 -91 \nQ 1250 -91 836 529 \nQ 422 1150 422 2328 \nQ 422 3509 836 4129 \nQ 1250 4750 2034 4750 \nz\n\" id=\"DejaVuSans-30\" transform=\"scale(0.015625)\"/>\n        <path d=\"M 684 794 \nL 1344 794 \nL 1344 0 \nL 684 0 \nL 684 794 \nz\n\" id=\"DejaVuSans-2e\" transform=\"scale(0.015625)\"/>\n        <path d=\"M 691 4666 \nL 3169 4666 \nL 3169 4134 \nL 1269 4134 \nL 1269 2991 \nQ 1406 3038 1543 3061 \nQ 1681 3084 1819 3084 \nQ 2600 3084 3056 2656 \nQ 3513 2228 3513 1497 \nQ 3513 744 3044 326 \nQ 2575 -91 1722 -91 \nQ 1428 -91 1123 -41 \nQ 819 9 494 109 \nL 494 744 \nQ 775 591 1075 516 \nQ 1375 441 1709 441 \nQ 2250 441 2565 725 \nQ 2881 1009 2881 1497 \nQ 2881 1984 2565 2268 \nQ 2250 2553 1709 2553 \nQ 1456 2553 1204 2497 \nQ 953 2441 691 2322 \nL 691 4666 \nz\n\" id=\"DejaVuSans-35\" transform=\"scale(0.015625)\"/>\n       </defs>\n       <use xlink:href=\"#DejaVuSans-30\"/>\n       <use x=\"63.623047\" xlink:href=\"#DejaVuSans-2e\"/>\n       <use x=\"95.410156\" xlink:href=\"#DejaVuSans-35\"/>\n      </g>\n     </g>\n    </g>\n    <g id=\"ytick_2\">\n     <g id=\"line2d_9\">\n      <path clip-path=\"url(#pe031778417)\" d=\"M 53.223625 189.154111 \nL 429.063625 189.154111 \n\" style=\"fill:none;stroke:#cbcbcb;\"/>\n     </g>\n     <g id=\"line2d_10\"/>\n     <g id=\"text_5\">\n      <!-- 1.0 -->\n      <g transform=\"translate(27.45925 194.473017)scale(0.14 -0.14)\">\n       <defs>\n        <path d=\"M 794 531 \nL 1825 531 \nL 1825 4091 \nL 703 3866 \nL 703 4441 \nL 1819 4666 \nL 2450 4666 \nL 2450 531 \nL 3481 531 \nL 3481 0 \nL 794 0 \nL 794 531 \nz\n\" id=\"DejaVuSans-31\" transform=\"scale(0.015625)\"/>\n       </defs>\n       <use xlink:href=\"#DejaVuSans-31\"/>\n       <use x=\"63.623047\" xlink:href=\"#DejaVuSans-2e\"/>\n       <use x=\"95.410156\" xlink:href=\"#DejaVuSans-30\"/>\n      </g>\n     </g>\n    </g>\n    <g id=\"ytick_3\">\n     <g id=\"line2d_11\">\n      <path clip-path=\"url(#pe031778417)\" d=\"M 53.223625 151.856147 \nL 429.063625 151.856147 \n\" style=\"fill:none;stroke:#cbcbcb;\"/>\n     </g>\n     <g id=\"line2d_12\"/>\n     <g id=\"text_6\">\n      <!-- 1.5 -->\n      <g transform=\"translate(27.45925 157.175053)scale(0.14 -0.14)\">\n       <use xlink:href=\"#DejaVuSans-31\"/>\n       <use x=\"63.623047\" xlink:href=\"#DejaVuSans-2e\"/>\n       <use x=\"95.410156\" xlink:href=\"#DejaVuSans-35\"/>\n      </g>\n     </g>\n    </g>\n    <g id=\"ytick_4\">\n     <g id=\"line2d_13\">\n      <path clip-path=\"url(#pe031778417)\" d=\"M 53.223625 114.558182 \nL 429.063625 114.558182 \n\" style=\"fill:none;stroke:#cbcbcb;\"/>\n     </g>\n     <g id=\"line2d_14\"/>\n     <g id=\"text_7\">\n      <!-- 2.0 -->\n      <g transform=\"translate(27.45925 119.877088)scale(0.14 -0.14)\">\n       <defs>\n        <path d=\"M 1228 531 \nL 3431 531 \nL 3431 0 \nL 469 0 \nL 469 531 \nQ 828 903 1448 1529 \nQ 2069 2156 2228 2338 \nQ 2531 2678 2651 2914 \nQ 2772 3150 2772 3378 \nQ 2772 3750 2511 3984 \nQ 2250 4219 1831 4219 \nQ 1534 4219 1204 4116 \nQ 875 4013 500 3803 \nL 500 4441 \nQ 881 4594 1212 4672 \nQ 1544 4750 1819 4750 \nQ 2544 4750 2975 4387 \nQ 3406 4025 3406 3419 \nQ 3406 3131 3298 2873 \nQ 3191 2616 2906 2266 \nQ 2828 2175 2409 1742 \nQ 1991 1309 1228 531 \nz\n\" id=\"DejaVuSans-32\" transform=\"scale(0.015625)\"/>\n       </defs>\n       <use xlink:href=\"#DejaVuSans-32\"/>\n       <use x=\"63.623047\" xlink:href=\"#DejaVuSans-2e\"/>\n       <use x=\"95.410156\" xlink:href=\"#DejaVuSans-30\"/>\n      </g>\n     </g>\n    </g>\n    <g id=\"ytick_5\">\n     <g id=\"line2d_15\">\n      <path clip-path=\"url(#pe031778417)\" d=\"M 53.223625 77.260217 \nL 429.063625 77.260217 \n\" style=\"fill:none;stroke:#cbcbcb;\"/>\n     </g>\n     <g id=\"line2d_16\"/>\n     <g id=\"text_8\">\n      <!-- 2.5 -->\n      <g transform=\"translate(27.45925 82.579123)scale(0.14 -0.14)\">\n       <use xlink:href=\"#DejaVuSans-32\"/>\n       <use x=\"63.623047\" xlink:href=\"#DejaVuSans-2e\"/>\n       <use x=\"95.410156\" xlink:href=\"#DejaVuSans-35\"/>\n      </g>\n     </g>\n    </g>\n    <g id=\"ytick_6\">\n     <g id=\"line2d_17\">\n      <path clip-path=\"url(#pe031778417)\" d=\"M 53.223625 39.962252 \nL 429.063625 39.962252 \n\" style=\"fill:none;stroke:#cbcbcb;\"/>\n     </g>\n     <g id=\"line2d_18\"/>\n     <g id=\"text_9\">\n      <!-- 3.0 -->\n      <g transform=\"translate(27.45925 45.281159)scale(0.14 -0.14)\">\n       <defs>\n        <path d=\"M 2597 2516 \nQ 3050 2419 3304 2112 \nQ 3559 1806 3559 1356 \nQ 3559 666 3084 287 \nQ 2609 -91 1734 -91 \nQ 1441 -91 1130 -33 \nQ 819 25 488 141 \nL 488 750 \nQ 750 597 1062 519 \nQ 1375 441 1716 441 \nQ 2309 441 2620 675 \nQ 2931 909 2931 1356 \nQ 2931 1769 2642 2001 \nQ 2353 2234 1838 2234 \nL 1294 2234 \nL 1294 2753 \nL 1863 2753 \nQ 2328 2753 2575 2939 \nQ 2822 3125 2822 3475 \nQ 2822 3834 2567 4026 \nQ 2313 4219 1838 4219 \nQ 1578 4219 1281 4162 \nQ 984 4106 628 3988 \nL 628 4550 \nQ 988 4650 1302 4700 \nQ 1616 4750 1894 4750 \nQ 2613 4750 3031 4423 \nQ 3450 4097 3450 3541 \nQ 3450 3153 3228 2886 \nQ 3006 2619 2597 2516 \nz\n\" id=\"DejaVuSans-33\" transform=\"scale(0.015625)\"/>\n       </defs>\n       <use xlink:href=\"#DejaVuSans-33\"/>\n       <use x=\"63.623047\" xlink:href=\"#DejaVuSans-2e\"/>\n       <use x=\"95.410156\" xlink:href=\"#DejaVuSans-30\"/>\n      </g>\n     </g>\n    </g>\n    <g id=\"text_10\">\n     <!-- Mean Absolute Error -->\n     <g transform=\"translate(19.965375 226.192687)rotate(-90)scale(0.168 -0.168)\">\n      <defs>\n       <path d=\"M 2188 4044 \nL 1331 1722 \nL 3047 1722 \nL 2188 4044 \nz\nM 1831 4666 \nL 2547 4666 \nL 4325 0 \nL 3669 0 \nL 3244 1197 \nL 1141 1197 \nL 716 0 \nL 50 0 \nL 1831 4666 \nz\n\" id=\"DejaVuSans-41\" transform=\"scale(0.015625)\"/>\n       <path d=\"M 3116 1747 \nQ 3116 2381 2855 2742 \nQ 2594 3103 2138 3103 \nQ 1681 3103 1420 2742 \nQ 1159 2381 1159 1747 \nQ 1159 1113 1420 752 \nQ 1681 391 2138 391 \nQ 2594 391 2855 752 \nQ 3116 1113 3116 1747 \nz\nM 1159 2969 \nQ 1341 3281 1617 3432 \nQ 1894 3584 2278 3584 \nQ 2916 3584 3314 3078 \nQ 3713 2572 3713 1747 \nQ 3713 922 3314 415 \nQ 2916 -91 2278 -91 \nQ 1894 -91 1617 61 \nQ 1341 213 1159 525 \nL 1159 0 \nL 581 0 \nL 581 4863 \nL 1159 4863 \nL 1159 2969 \nz\n\" id=\"DejaVuSans-62\" transform=\"scale(0.015625)\"/>\n       <path d=\"M 603 4863 \nL 1178 4863 \nL 1178 0 \nL 603 0 \nL 603 4863 \nz\n\" id=\"DejaVuSans-6c\" transform=\"scale(0.015625)\"/>\n       <path d=\"M 544 1381 \nL 544 3500 \nL 1119 3500 \nL 1119 1403 \nQ 1119 906 1312 657 \nQ 1506 409 1894 409 \nQ 2359 409 2629 706 \nQ 2900 1003 2900 1516 \nL 2900 3500 \nL 3475 3500 \nL 3475 0 \nL 2900 0 \nL 2900 538 \nQ 2691 219 2414 64 \nQ 2138 -91 1772 -91 \nQ 1169 -91 856 284 \nQ 544 659 544 1381 \nz\nM 1991 3584 \nL 1991 3584 \nz\n\" id=\"DejaVuSans-75\" transform=\"scale(0.015625)\"/>\n       <path d=\"M 628 4666 \nL 3578 4666 \nL 3578 4134 \nL 1259 4134 \nL 1259 2753 \nL 3481 2753 \nL 3481 2222 \nL 1259 2222 \nL 1259 531 \nL 3634 531 \nL 3634 0 \nL 628 0 \nL 628 4666 \nz\n\" id=\"DejaVuSans-45\" transform=\"scale(0.015625)\"/>\n      </defs>\n      <use xlink:href=\"#DejaVuSans-4d\"/>\n      <use x=\"86.279297\" xlink:href=\"#DejaVuSans-65\"/>\n      <use x=\"147.802734\" xlink:href=\"#DejaVuSans-61\"/>\n      <use x=\"209.082031\" xlink:href=\"#DejaVuSans-6e\"/>\n      <use x=\"272.460938\" xlink:href=\"#DejaVuSans-20\"/>\n      <use x=\"304.248047\" xlink:href=\"#DejaVuSans-41\"/>\n      <use x=\"372.65625\" xlink:href=\"#DejaVuSans-62\"/>\n      <use x=\"436.132812\" xlink:href=\"#DejaVuSans-73\"/>\n      <use x=\"488.232422\" xlink:href=\"#DejaVuSans-6f\"/>\n      <use x=\"549.414062\" xlink:href=\"#DejaVuSans-6c\"/>\n      <use x=\"577.197266\" xlink:href=\"#DejaVuSans-75\"/>\n      <use x=\"640.576172\" xlink:href=\"#DejaVuSans-74\"/>\n      <use x=\"679.785156\" xlink:href=\"#DejaVuSans-65\"/>\n      <use x=\"741.308594\" xlink:href=\"#DejaVuSans-20\"/>\n      <use x=\"773.095703\" xlink:href=\"#DejaVuSans-45\"/>\n      <use x=\"836.279297\" xlink:href=\"#DejaVuSans-72\"/>\n      <use x=\"875.642578\" xlink:href=\"#DejaVuSans-72\"/>\n      <use x=\"914.505859\" xlink:href=\"#DejaVuSans-6f\"/>\n      <use x=\"975.6875\" xlink:href=\"#DejaVuSans-72\"/>\n     </g>\n    </g>\n   </g>\n   <g id=\"line2d_19\">\n    <path clip-path=\"url(#pe031778417)\" d=\"M 97.071625 220.465235 \nL 134.655625 220.465235 \nL 134.655625 201.172344 \nL 97.071625 201.172344 \nL 97.071625 220.465235 \n\" style=\"fill:none;stroke:#000000;\"/>\n   </g>\n   <g id=\"line2d_20\">\n    <path clip-path=\"url(#pe031778417)\" d=\"M 115.863625 220.465235 \nL 115.863625 233.078681 \n\" style=\"fill:none;stroke:#000000;\"/>\n   </g>\n   <g id=\"line2d_21\">\n    <path clip-path=\"url(#pe031778417)\" d=\"M 115.863625 201.172344 \nL 115.863625 178.694104 \n\" style=\"fill:none;stroke:#000000;\"/>\n   </g>\n   <g id=\"line2d_22\">\n    <path clip-path=\"url(#pe031778417)\" d=\"M 106.467625 233.078681 \nL 125.259625 233.078681 \n\" style=\"fill:none;stroke:#000000;\"/>\n   </g>\n   <g id=\"line2d_23\">\n    <path clip-path=\"url(#pe031778417)\" d=\"M 106.467625 178.694104 \nL 125.259625 178.694104 \n\" style=\"fill:none;stroke:#000000;\"/>\n   </g>\n   <g id=\"line2d_24\">\n    <defs>\n     <path d=\"M 0 3 \nC 0.795609 3 1.55874 2.683901 2.12132 2.12132 \nC 2.683901 1.55874 3 0.795609 3 0 \nC 3 -0.795609 2.683901 -1.55874 2.12132 -2.12132 \nC 1.55874 -2.683901 0.795609 -3 0 -3 \nC -0.795609 -3 -1.55874 -2.683901 -2.12132 -2.12132 \nC -2.683901 -1.55874 -3 -0.795609 -3 0 \nC -3 0.795609 -2.683901 1.55874 -2.12132 2.12132 \nC -1.55874 2.683901 -0.795609 3 0 3 \nz\n\" id=\"m69ff35112a\" style=\"stroke:#000000;\"/>\n    </defs>\n    <g clip-path=\"url(#pe031778417)\">\n     <use style=\"fill-opacity:0;stroke:#000000;\" x=\"115.863625\" xlink:href=\"#m69ff35112a\" y=\"171.09568\"/>\n    </g>\n   </g>\n   <g id=\"line2d_25\">\n    <path clip-path=\"url(#pe031778417)\" d=\"M 222.351625 239.381261 \nL 259.935625 239.381261 \nL 259.935625 232.05823 \nL 222.351625 232.05823 \nL 222.351625 239.381261 \n\" style=\"fill:none;stroke:#000000;\"/>\n   </g>\n   <g id=\"line2d_26\">\n    <path clip-path=\"url(#pe031778417)\" d=\"M 241.143625 239.381261 \nL 241.143625 246.818114 \n\" style=\"fill:none;stroke:#000000;\"/>\n   </g>\n   <g id=\"line2d_27\">\n    <path clip-path=\"url(#pe031778417)\" d=\"M 241.143625 232.05823 \nL 241.143625 225.824033 \n\" style=\"fill:none;stroke:#000000;\"/>\n   </g>\n   <g id=\"line2d_28\">\n    <path clip-path=\"url(#pe031778417)\" d=\"M 231.747625 246.818114 \nL 250.539625 246.818114 \n\" style=\"fill:none;stroke:#000000;\"/>\n   </g>\n   <g id=\"line2d_29\">\n    <path clip-path=\"url(#pe031778417)\" d=\"M 231.747625 225.824033 \nL 250.539625 225.824033 \n\" style=\"fill:none;stroke:#000000;\"/>\n   </g>\n   <g id=\"line2d_30\">\n    <g clip-path=\"url(#pe031778417)\">\n     <use style=\"fill-opacity:0;stroke:#000000;\" x=\"241.143625\" xlink:href=\"#m69ff35112a\" y=\"219.791275\"/>\n    </g>\n   </g>\n   <g id=\"line2d_31\">\n    <path clip-path=\"url(#pe031778417)\" d=\"M 347.631625 170.187644 \nL 385.215625 170.187644 \nL 385.215625 111.312767 \nL 347.631625 111.312767 \nL 347.631625 170.187644 \n\" style=\"fill:none;stroke:#000000;\"/>\n   </g>\n   <g id=\"line2d_32\">\n    <path clip-path=\"url(#pe031778417)\" d=\"M 366.423625 170.187644 \nL 366.423625 212.920182 \n\" style=\"fill:none;stroke:#000000;\"/>\n   </g>\n   <g id=\"line2d_33\">\n    <path clip-path=\"url(#pe031778417)\" d=\"M 366.423625 111.312767 \nL 366.423625 34.745386 \n\" style=\"fill:none;stroke:#000000;\"/>\n   </g>\n   <g id=\"line2d_34\">\n    <path clip-path=\"url(#pe031778417)\" d=\"M 357.027625 212.920182 \nL 375.819625 212.920182 \n\" style=\"fill:none;stroke:#000000;\"/>\n   </g>\n   <g id=\"line2d_35\">\n    <path clip-path=\"url(#pe031778417)\" d=\"M 357.027625 34.745386 \nL 375.819625 34.745386 \n\" style=\"fill:none;stroke:#000000;\"/>\n   </g>\n   <g id=\"line2d_36\"/>\n   <g id=\"line2d_37\">\n    <path clip-path=\"url(#pe031778417)\" d=\"M 97.071625 211.91623 \nL 134.655625 211.91623 \n\" style=\"fill:none;stroke:#348abd;\"/>\n   </g>\n   <g id=\"line2d_38\">\n    <path clip-path=\"url(#pe031778417)\" d=\"M 222.351625 235.605396 \nL 259.935625 235.605396 \n\" style=\"fill:none;stroke:#348abd;\"/>\n   </g>\n   <g id=\"line2d_39\">\n    <path clip-path=\"url(#pe031778417)\" d=\"M 347.631625 149.159348 \nL 385.215625 149.159348 \n\" style=\"fill:none;stroke:#348abd;\"/>\n   </g>\n   <g id=\"patch_3\">\n    <path d=\"M 53.223625 257.42175 \nL 53.223625 24.14175 \n\" style=\"fill:none;stroke:#f0f0f0;stroke-linecap:square;stroke-linejoin:miter;stroke-width:3;\"/>\n   </g>\n   <g id=\"patch_4\">\n    <path d=\"M 429.063625 257.42175 \nL 429.063625 24.14175 \n\" style=\"fill:none;stroke:#f0f0f0;stroke-linecap:square;stroke-linejoin:miter;stroke-width:3;\"/>\n   </g>\n   <g id=\"patch_5\">\n    <path d=\"M 53.223625 257.42175 \nL 429.063625 257.42175 \n\" style=\"fill:none;stroke:#f0f0f0;stroke-linecap:square;stroke-linejoin:miter;stroke-width:3;\"/>\n   </g>\n   <g id=\"patch_6\">\n    <path d=\"M 53.223625 24.14175 \nL 429.063625 24.14175 \n\" style=\"fill:none;stroke:#f0f0f0;stroke-linecap:square;stroke-linejoin:miter;stroke-width:3;\"/>\n   </g>\n   <g id=\"text_11\">\n    <!-- Forrest Fire Predictions - 64 iterations -->\n    <g transform=\"translate(106.49125 18.14175)scale(0.144 -0.144)\">\n     <defs>\n      <path d=\"M 603 3500 \nL 1178 3500 \nL 1178 0 \nL 603 0 \nL 603 3500 \nz\nM 603 4863 \nL 1178 4863 \nL 1178 4134 \nL 603 4134 \nL 603 4863 \nz\n\" id=\"DejaVuSans-69\" transform=\"scale(0.015625)\"/>\n      <path d=\"M 3122 3366 \nL 3122 2828 \nQ 2878 2963 2633 3030 \nQ 2388 3097 2138 3097 \nQ 1578 3097 1268 2742 \nQ 959 2388 959 1747 \nQ 959 1106 1268 751 \nQ 1578 397 2138 397 \nQ 2388 397 2633 464 \nQ 2878 531 3122 666 \nL 3122 134 \nQ 2881 22 2623 -34 \nQ 2366 -91 2075 -91 \nQ 1284 -91 818 406 \nQ 353 903 353 1747 \nQ 353 2603 823 3093 \nQ 1294 3584 2113 3584 \nQ 2378 3584 2631 3529 \nQ 2884 3475 3122 3366 \nz\n\" id=\"DejaVuSans-63\" transform=\"scale(0.015625)\"/>\n      <path d=\"M 313 2009 \nL 1997 2009 \nL 1997 1497 \nL 313 1497 \nL 313 2009 \nz\n\" id=\"DejaVuSans-2d\" transform=\"scale(0.015625)\"/>\n      <path d=\"M 2113 2584 \nQ 1688 2584 1439 2293 \nQ 1191 2003 1191 1497 \nQ 1191 994 1439 701 \nQ 1688 409 2113 409 \nQ 2538 409 2786 701 \nQ 3034 994 3034 1497 \nQ 3034 2003 2786 2293 \nQ 2538 2584 2113 2584 \nz\nM 3366 4563 \nL 3366 3988 \nQ 3128 4100 2886 4159 \nQ 2644 4219 2406 4219 \nQ 1781 4219 1451 3797 \nQ 1122 3375 1075 2522 \nQ 1259 2794 1537 2939 \nQ 1816 3084 2150 3084 \nQ 2853 3084 3261 2657 \nQ 3669 2231 3669 1497 \nQ 3669 778 3244 343 \nQ 2819 -91 2113 -91 \nQ 1303 -91 875 529 \nQ 447 1150 447 2328 \nQ 447 3434 972 4092 \nQ 1497 4750 2381 4750 \nQ 2619 4750 2861 4703 \nQ 3103 4656 3366 4563 \nz\n\" id=\"DejaVuSans-36\" transform=\"scale(0.015625)\"/>\n      <path d=\"M 2419 4116 \nL 825 1625 \nL 2419 1625 \nL 2419 4116 \nz\nM 2253 4666 \nL 3047 4666 \nL 3047 1625 \nL 3713 1625 \nL 3713 1100 \nL 3047 1100 \nL 3047 0 \nL 2419 0 \nL 2419 1100 \nL 313 1100 \nL 313 1709 \nL 2253 4666 \nz\n\" id=\"DejaVuSans-34\" transform=\"scale(0.015625)\"/>\n     </defs>\n     <use xlink:href=\"#DejaVuSans-46\"/>\n     <use x=\"53.894531\" xlink:href=\"#DejaVuSans-6f\"/>\n     <use x=\"115.076172\" xlink:href=\"#DejaVuSans-72\"/>\n     <use x=\"154.439453\" xlink:href=\"#DejaVuSans-72\"/>\n     <use x=\"193.302734\" xlink:href=\"#DejaVuSans-65\"/>\n     <use x=\"254.826172\" xlink:href=\"#DejaVuSans-73\"/>\n     <use x=\"306.925781\" xlink:href=\"#DejaVuSans-74\"/>\n     <use x=\"346.134766\" xlink:href=\"#DejaVuSans-20\"/>\n     <use x=\"377.921875\" xlink:href=\"#DejaVuSans-46\"/>\n     <use x=\"428.191406\" xlink:href=\"#DejaVuSans-69\"/>\n     <use x=\"455.974609\" xlink:href=\"#DejaVuSans-72\"/>\n     <use x=\"494.837891\" xlink:href=\"#DejaVuSans-65\"/>\n     <use x=\"556.361328\" xlink:href=\"#DejaVuSans-20\"/>\n     <use x=\"588.148438\" xlink:href=\"#DejaVuSans-50\"/>\n     <use x=\"646.701172\" xlink:href=\"#DejaVuSans-72\"/>\n     <use x=\"685.564453\" xlink:href=\"#DejaVuSans-65\"/>\n     <use x=\"747.087891\" xlink:href=\"#DejaVuSans-64\"/>\n     <use x=\"810.564453\" xlink:href=\"#DejaVuSans-69\"/>\n     <use x=\"838.347656\" xlink:href=\"#DejaVuSans-63\"/>\n     <use x=\"893.328125\" xlink:href=\"#DejaVuSans-74\"/>\n     <use x=\"932.537109\" xlink:href=\"#DejaVuSans-69\"/>\n     <use x=\"960.320312\" xlink:href=\"#DejaVuSans-6f\"/>\n     <use x=\"1021.501953\" xlink:href=\"#DejaVuSans-6e\"/>\n     <use x=\"1084.880859\" xlink:href=\"#DejaVuSans-73\"/>\n     <use x=\"1136.980469\" xlink:href=\"#DejaVuSans-20\"/>\n     <use x=\"1168.767578\" xlink:href=\"#DejaVuSans-2d\"/>\n     <use x=\"1204.851562\" xlink:href=\"#DejaVuSans-20\"/>\n     <use x=\"1236.638672\" xlink:href=\"#DejaVuSans-36\"/>\n     <use x=\"1300.261719\" xlink:href=\"#DejaVuSans-34\"/>\n     <use x=\"1363.884766\" xlink:href=\"#DejaVuSans-20\"/>\n     <use x=\"1395.671875\" xlink:href=\"#DejaVuSans-69\"/>\n     <use x=\"1423.455078\" xlink:href=\"#DejaVuSans-74\"/>\n     <use x=\"1462.664062\" xlink:href=\"#DejaVuSans-65\"/>\n     <use x=\"1524.1875\" xlink:href=\"#DejaVuSans-72\"/>\n     <use x=\"1565.300781\" xlink:href=\"#DejaVuSans-61\"/>\n     <use x=\"1626.580078\" xlink:href=\"#DejaVuSans-74\"/>\n     <use x=\"1665.789062\" xlink:href=\"#DejaVuSans-69\"/>\n     <use x=\"1693.572266\" xlink:href=\"#DejaVuSans-6f\"/>\n     <use x=\"1754.753906\" xlink:href=\"#DejaVuSans-6e\"/>\n     <use x=\"1818.132812\" xlink:href=\"#DejaVuSans-73\"/>\n    </g>\n   </g>\n  </g>\n </g>\n <defs>\n  <clipPath id=\"pe031778417\">\n   <rect height=\"233.28\" width=\"375.84\" x=\"53.223625\" y=\"24.14175\"/>\n  </clipPath>\n </defs>\n</svg>\n",
      "image/png": "[encoded data removed]"
     },
     "metadata": {}
    }
   ],
   "source": [
    "import multiprocessing\n",
    "import tqdm\n",
    "\n",
    "# Create the thread manager\n",
    "manager = multiprocessing.Manager()\n",
    "\n",
    "# This will hold all the jobs, to be awaited on\n",
    "jobs = []\n",
    "\n",
    "\n",
    "n_threads = 16 # Number of threads to run\n",
    "ITERS= 64 # Nuber of iterations to run, better if it is divisable by n_threads\n",
    "\n",
    "# Results\n",
    "RFR_mae = []\n",
    "MLP_mae = []\n",
    "SVR_mae = []\n",
    "\n",
    "# Basic threadding so I can do more cross validation faster\n",
    "# Run in batches of n_threads\n",
    "# Using tqdm to print the progress - it has no effect on the loop\n",
    "# This loop cross validates the models.\n",
    "# It is done by creating a new model with a randomly shuffled data-set\n",
    "# and testing how good the model was. Results are put into a list and then graphed\n",
    "for _ in tqdm.tqdm(range(0, ITERS, n_threads)):\n",
    "    results = manager.dict() # Create a thread safe dictionary\n",
    "\n",
    "    # Create n_threads number of threads\n",
    "    for i in range(n_threads):\n",
    "        # Create a new worker thread that will process the iterate function\n",
    "        # Pass it the a random sample of the dataframe, along with the thread safe result dictionary\n",
    "        p = multiprocessing.Process(target=iterate, args=(get_random_sample(), results, i))\n",
    "        jobs.append(p)\n",
    "        p.start()\n",
    "    for proc in jobs:\n",
    "        # Await for all the threads to finish\n",
    "        proc.join()\n",
    "    # For all the results, extract the values \n",
    "    for result in results.values():\n",
    "        RFR_mae.append(result[0])\n",
    "        MLP_mae.append(result[1])\n",
    "        SVR_mae.append(result[2])\n",
    "\n",
    "\n",
    "\n",
    "# Graph the data\n",
    "plt.boxplot([RFR_mae, MLP_mae, SVR_mae])\n",
    "plt.style.use(\"ggplot\")\n",
    "plt.title(f\"Forrest Fire Predictions - {ITERS} iterations\")\n",
    "plt.xticks([1, 2, 3], options)\n",
    "plt.ylabel(\"Mean Absolute Error\")\n",
    "plt.show()\n"
   ]
  },
  {
   "cell_type": "code",
   "execution_count": null,
   "metadata": {},
   "outputs": [],
   "source": []
  }
 ]
}