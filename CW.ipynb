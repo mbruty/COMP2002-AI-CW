{
 "metadata": {
  "language_info": {
   "codemirror_mode": {
    "name": "ipython",
    "version": 3
   },
   "file_extension": ".py",
   "mimetype": "text/x-python",
   "name": "python",
   "nbconvert_exporter": "python",
   "pygments_lexer": "ipython3",
   "version": "3.9.2"
  },
  "orig_nbformat": 2,
  "kernelspec": {
   "name": "python392jvsc74a57bd0767d51c1340bd893661ea55ea3124f6de3c7a262a8b4abca0554b478b1e2ff90",
   "display_name": "Python 3.9.2 64-bit"
  },
  "metadata": {
   "interpreter": {
    "hash": "767d51c1340bd893661ea55ea3124f6de3c7a262a8b4abca0554b478b1e2ff90"
   }
  }
 },
 "nbformat": 4,
 "nbformat_minor": 2,
 "cells": [
  {
   "cell_type": "code",
   "execution_count": 1,
   "metadata": {},
   "outputs": [
    {
     "output_type": "execute_result",
     "data": {
      "text/plain": [
       "   day  month  year  Temperature   RH   Ws  Rain   FFMC  DMC    DC  ISI  BUI  \\\n",
       "0    1      6  2012           29   57   18    0.0  65.7  3.4   7.6  1.3  3.4   \n",
       "1    2      6  2012           29   61   13    1.3  64.4  4.1   7.6  1.0  3.9   \n",
       "2    3      6  2012           26   82   22   13.1  47.1  2.5   7.1  0.3  2.7   \n",
       "3    4      6  2012           25   89   13    2.5  28.6  1.3   6.9  0.0  1.7   \n",
       "4    5      6  2012           27   77   16    0.0  64.8  3.0  14.2  1.2  3.9   \n",
       "\n",
       "   FWI  \n",
       "0  0.5  \n",
       "1  0.4  \n",
       "2  0.1  \n",
       "3  0.0  \n",
       "4  0.5  "
      ],
      "text/html": "<div>\n<style scoped>\n    .dataframe tbody tr th:only-of-type {\n        vertical-align: middle;\n    }\n\n    .dataframe tbody tr th {\n        vertical-align: top;\n    }\n\n    .dataframe thead th {\n        text-align: right;\n    }\n</style>\n<table border=\"1\" class=\"dataframe\">\n  <thead>\n    <tr style=\"text-align: right;\">\n      <th></th>\n      <th>day</th>\n      <th>month</th>\n      <th>year</th>\n      <th>Temperature</th>\n      <th>RH</th>\n      <th>Ws</th>\n      <th>Rain</th>\n      <th>FFMC</th>\n      <th>DMC</th>\n      <th>DC</th>\n      <th>ISI</th>\n      <th>BUI</th>\n      <th>FWI</th>\n    </tr>\n  </thead>\n  <tbody>\n    <tr>\n      <th>0</th>\n      <td>1</td>\n      <td>6</td>\n      <td>2012</td>\n      <td>29</td>\n      <td>57</td>\n      <td>18</td>\n      <td>0.0</td>\n      <td>65.7</td>\n      <td>3.4</td>\n      <td>7.6</td>\n      <td>1.3</td>\n      <td>3.4</td>\n      <td>0.5</td>\n    </tr>\n    <tr>\n      <th>1</th>\n      <td>2</td>\n      <td>6</td>\n      <td>2012</td>\n      <td>29</td>\n      <td>61</td>\n      <td>13</td>\n      <td>1.3</td>\n      <td>64.4</td>\n      <td>4.1</td>\n      <td>7.6</td>\n      <td>1.0</td>\n      <td>3.9</td>\n      <td>0.4</td>\n    </tr>\n    <tr>\n      <th>2</th>\n      <td>3</td>\n      <td>6</td>\n      <td>2012</td>\n      <td>26</td>\n      <td>82</td>\n      <td>22</td>\n      <td>13.1</td>\n      <td>47.1</td>\n      <td>2.5</td>\n      <td>7.1</td>\n      <td>0.3</td>\n      <td>2.7</td>\n      <td>0.1</td>\n    </tr>\n    <tr>\n      <th>3</th>\n      <td>4</td>\n      <td>6</td>\n      <td>2012</td>\n      <td>25</td>\n      <td>89</td>\n      <td>13</td>\n      <td>2.5</td>\n      <td>28.6</td>\n      <td>1.3</td>\n      <td>6.9</td>\n      <td>0.0</td>\n      <td>1.7</td>\n      <td>0.0</td>\n    </tr>\n    <tr>\n      <th>4</th>\n      <td>5</td>\n      <td>6</td>\n      <td>2012</td>\n      <td>27</td>\n      <td>77</td>\n      <td>16</td>\n      <td>0.0</td>\n      <td>64.8</td>\n      <td>3.0</td>\n      <td>14.2</td>\n      <td>1.2</td>\n      <td>3.9</td>\n      <td>0.5</td>\n    </tr>\n  </tbody>\n</table>\n</div>"
     },
     "metadata": {},
     "execution_count": 1
    }
   ],
   "source": [
    "import pandas as pd\n",
    "from sklearn import preprocessing\n",
    "import numpy as np\n",
    "import matplotlib.pyplot as plt\n",
    "import math\n",
    "\n",
    "df = pd.read_csv('./AlgerianFF_Region1.csv')\n",
    "df.merge( pd.read_csv('./AlgerianFF_Region2.csv') )\n",
    "df.head()"
   ]
  },
  {
   "cell_type": "code",
   "execution_count": 2,
   "metadata": {},
   "outputs": [
    {
     "output_type": "execute_result",
     "data": {
      "text/plain": [
       "   day  month  year  Temperature   RH   Ws  Rain   FFMC   DMC     DC   ISI  \\\n",
       "0    1      9  2012           25   76   17    7.2  46.0   1.3    7.5   0.2   \n",
       "1    2      6  2012           29   61   13    1.3  64.4   4.1    7.6   1.0   \n",
       "2    3      9  2012           25   78   15    3.8  42.6   1.2    7.5   0.1   \n",
       "3   29      8  2012           35   48   18    0.0  90.1  54.2  220.4  12.5   \n",
       "4   12      9  2012           29   88   13    0.0  71.0   2.6   16.6   1.2   \n",
       "\n",
       "    BUI   FWI  \n",
       "0   1.8   0.1  \n",
       "1   3.9   0.4  \n",
       "2   1.7   0.0  \n",
       "3  67.4  30.2  \n",
       "4   3.7   0.5  "
      ],
      "text/html": "<div>\n<style scoped>\n    .dataframe tbody tr th:only-of-type {\n        vertical-align: middle;\n    }\n\n    .dataframe tbody tr th {\n        vertical-align: top;\n    }\n\n    .dataframe thead th {\n        text-align: right;\n    }\n</style>\n<table border=\"1\" class=\"dataframe\">\n  <thead>\n    <tr style=\"text-align: right;\">\n      <th></th>\n      <th>day</th>\n      <th>month</th>\n      <th>year</th>\n      <th>Temperature</th>\n      <th>RH</th>\n      <th>Ws</th>\n      <th>Rain</th>\n      <th>FFMC</th>\n      <th>DMC</th>\n      <th>DC</th>\n      <th>ISI</th>\n      <th>BUI</th>\n      <th>FWI</th>\n    </tr>\n  </thead>\n  <tbody>\n    <tr>\n      <th>0</th>\n      <td>1</td>\n      <td>9</td>\n      <td>2012</td>\n      <td>25</td>\n      <td>76</td>\n      <td>17</td>\n      <td>7.2</td>\n      <td>46.0</td>\n      <td>1.3</td>\n      <td>7.5</td>\n      <td>0.2</td>\n      <td>1.8</td>\n      <td>0.1</td>\n    </tr>\n    <tr>\n      <th>1</th>\n      <td>2</td>\n      <td>6</td>\n      <td>2012</td>\n      <td>29</td>\n      <td>61</td>\n      <td>13</td>\n      <td>1.3</td>\n      <td>64.4</td>\n      <td>4.1</td>\n      <td>7.6</td>\n      <td>1.0</td>\n      <td>3.9</td>\n      <td>0.4</td>\n    </tr>\n    <tr>\n      <th>2</th>\n      <td>3</td>\n      <td>9</td>\n      <td>2012</td>\n      <td>25</td>\n      <td>78</td>\n      <td>15</td>\n      <td>3.8</td>\n      <td>42.6</td>\n      <td>1.2</td>\n      <td>7.5</td>\n      <td>0.1</td>\n      <td>1.7</td>\n      <td>0.0</td>\n    </tr>\n    <tr>\n      <th>3</th>\n      <td>29</td>\n      <td>8</td>\n      <td>2012</td>\n      <td>35</td>\n      <td>48</td>\n      <td>18</td>\n      <td>0.0</td>\n      <td>90.1</td>\n      <td>54.2</td>\n      <td>220.4</td>\n      <td>12.5</td>\n      <td>67.4</td>\n      <td>30.2</td>\n    </tr>\n    <tr>\n      <th>4</th>\n      <td>12</td>\n      <td>9</td>\n      <td>2012</td>\n      <td>29</td>\n      <td>88</td>\n      <td>13</td>\n      <td>0.0</td>\n      <td>71.0</td>\n      <td>2.6</td>\n      <td>16.6</td>\n      <td>1.2</td>\n      <td>3.7</td>\n      <td>0.5</td>\n    </tr>\n  </tbody>\n</table>\n</div>"
     },
     "metadata": {},
     "execution_count": 2
    }
   ],
   "source": [
    "df = df.sample(frac=1).reset_index(drop=True)\n",
    "df.head()"
   ]
  },
  {
   "source": [],
   "cell_type": "markdown",
   "metadata": {}
  },
  {
   "cell_type": "code",
   "execution_count": 3,
   "metadata": {},
   "outputs": [
    {
     "output_type": "stream",
     "name": "stdout",
     "text": [
      "   month  Temperature   RH   Ws  Rain   FFMC   DMC     DC   ISI   BUI\n0      9           25   76   17    7.2  46.0   1.3    7.5   0.2   1.8\n1      6           29   61   13    1.3  64.4   4.1    7.6   1.0   3.9\n2      9           25   78   15    3.8  42.6   1.2    7.5   0.1   1.7\n3      8           35   48   18    0.0  90.1  54.2  220.4  12.5  67.4\n4      9           29   88   13    0.0  71.0   2.6   16.6   1.2   3.7\n"
     ]
    }
   ],
   "source": [
    "y = np.array(df['FWI'])\n",
    "# Drop target (FWI) from training data\n",
    "# Drop day and year as they won't help\n",
    "# Month is left in as the month could be a predictor of a forest fire\n",
    "df = df.drop(['FWI', 'day', 'year'], axis=1) \n",
    "print(df.head())\n",
    "inputs = np.array(df, float)\n",
    "X = preprocessing.scale(inputs)\n",
    "\n",
    "split_point = math.floor(len(X) * 0.7)\n",
    "\n",
    "X_train, X_test = X[split_point:], X[split_point + 1: ]\n",
    "y_train, y_test = y[split_point:], y[split_point + 1: ]"
   ]
  },
  {
   "cell_type": "code",
   "execution_count": 4,
   "metadata": {},
   "outputs": [],
   "source": [
    "# Helper function to see the output of predictions\n",
    "def print_predictions(regressor):\n",
    "    for i in range(len(X_test)):\n",
    "        print(f\"{regressor.predict([X_test[i]])[0]}\\t{y_test[i]}\")\n",
    "\n",
    "# Calculate the mean absolute error\n",
    "def calcMeanABSError(regressor, xs, ys):\n",
    "    total = 0\n",
    "    for i in range(len(xs)):\n",
    "        prediction = regressor.predict([xs[i]])[0]\n",
    "        actual = ys[i]\n",
    "        total += abs(prediction - actual)\n",
    "    return total / len(xs)\n",
    "    "
   ]
  },
  {
   "source": [
    "from sklearn.ensemble import RandomForestRegressor\n",
    "\n",
    "RFregr = RandomForestRegressor(max_depth=2).fit(X_train, y_train)\n",
    "RFregr.score(X_test, y_test)"
   ],
   "cell_type": "code",
   "metadata": {},
   "execution_count": 5,
   "outputs": [
    {
     "output_type": "execute_result",
     "data": {
      "text/plain": [
       "0.9750113351335484"
      ]
     },
     "metadata": {},
     "execution_count": 5
    }
   ]
  },
  {
   "cell_type": "code",
   "execution_count": 6,
   "metadata": {},
   "outputs": [
    {
     "output_type": "execute_result",
     "data": {
      "text/plain": [
       "0.5802871186826984"
      ]
     },
     "metadata": {},
     "execution_count": 6
    }
   ],
   "source": [
    "calcMeanABSError(RFregr, X_test, y_test)"
   ]
  },
  {
   "cell_type": "code",
   "execution_count": 7,
   "metadata": {},
   "outputs": [
    {
     "output_type": "execute_result",
     "data": {
      "text/plain": [
       "0.5732190145155788"
      ]
     },
     "metadata": {},
     "execution_count": 7
    }
   ],
   "source": [
    "calcMeanABSError(RFregr, X_train, y_train)"
   ]
  },
  {
   "cell_type": "code",
   "execution_count": 8,
   "metadata": {},
   "outputs": [
    {
     "output_type": "execute_result",
     "data": {
      "text/plain": [
       "0.9985910861039138"
      ]
     },
     "metadata": {},
     "execution_count": 8
    }
   ],
   "source": [
    "from sklearn.neural_network import MLPRegressor\n",
    "MLPRegr = MLPRegressor(max_iter=1000).fit(X_train, y_train)\n",
    "MLPRegr.score(X_test, y_test)"
   ]
  },
  {
   "cell_type": "code",
   "execution_count": 9,
   "metadata": {},
   "outputs": [
    {
     "output_type": "execute_result",
     "data": {
      "text/plain": [
       "0.16015354077968944"
      ]
     },
     "metadata": {},
     "execution_count": 9
    }
   ],
   "source": [
    "calcMeanABSError(MLPRegr, X_test, y_test)"
   ]
  },
  {
   "cell_type": "code",
   "execution_count": 10,
   "metadata": {},
   "outputs": [
    {
     "output_type": "execute_result",
     "data": {
      "text/plain": [
       "0.1593005726115619"
      ]
     },
     "metadata": {},
     "execution_count": 10
    }
   ],
   "source": [
    "calcMeanABSError(MLPRegr, X_train, y_train)"
   ]
  },
  {
   "cell_type": "code",
   "execution_count": 11,
   "metadata": {},
   "outputs": [
    {
     "output_type": "execute_result",
     "data": {
      "text/plain": [
       "0.5240685174555659"
      ]
     },
     "metadata": {},
     "execution_count": 11
    }
   ],
   "source": [
    "from sklearn.svm import SVR\n",
    "SVMRegr = SVR().fit(X_train, y_train)\n",
    "SVMRegr.score(X_test, y_test)"
   ]
  },
  {
   "cell_type": "code",
   "execution_count": 12,
   "metadata": {},
   "outputs": [
    {
     "output_type": "execute_result",
     "data": {
      "text/plain": [
       "1.993495156010376"
      ]
     },
     "metadata": {},
     "execution_count": 12
    }
   ],
   "source": [
    "calcMeanABSError(SVMRegr, X_test, y_test)"
   ]
  },
  {
   "cell_type": "code",
   "execution_count": 13,
   "metadata": {},
   "outputs": [
    {
     "output_type": "execute_result",
     "data": {
      "text/plain": [
       "1.9400215850822349"
      ]
     },
     "metadata": {},
     "execution_count": 13
    }
   ],
   "source": [
    "calcMeanABSError(SVMRegr, X_train, y_train)"
   ]
  }
 ]
}